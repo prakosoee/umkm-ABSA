{
 "cells": [
  {
   "cell_type": "code",
   "execution_count": 5,
   "id": "aa693940",
   "metadata": {},
   "outputs": [
    {
     "name": "stderr",
     "output_type": "stream",
     "text": [
      "Device set to use cpu\n"
     ]
    },
    {
     "name": "stdout",
     "output_type": "stream",
     "text": [
      "[{'label': 'Positive', 'score': 0.7446556687355042}]\n"
     ]
    }
   ],
   "source": [
    "from transformers import pipeline\n",
    "classifier = pipeline(\n",
    "    \"text-classification\",\n",
    "    model=\"yangheng/deberta-v3-base-absa-v1.1\",\n",
    "    use_fast=False\n",
    ")\n",
    "sentence = \"The food was exceptional, although the service was a bit slow.\"\n",
    "print(classifier(sentence))"
   ]
  },
  {
   "cell_type": "code",
   "execution_count": null,
   "id": "ff78dd0e",
   "metadata": {},
   "outputs": [
    {
     "name": "stdout",
     "output_type": "stream",
     "text": [
      "[2025-10-30 15:31:34] (2.4.2) ********** Available ATEPC model checkpoints for Version:2.4.2 (this version) **********\n",
      "[2025-10-30 15:31:34] (2.4.2) ********** Available ATEPC model checkpoints for Version:2.4.2 (this version) **********\n",
      "[2025-10-30 15:31:34] (2.4.2) Downloading checkpoint:multilingual \n",
      "[2025-10-30 15:31:34] (2.4.2) Notice: The pretrained model are used for testing, it is recommended to train the model on your own custom datasets\n",
      "[2025-10-30 15:31:34] (2.4.2) Checkpoint already downloaded, skip\n",
      "[2025-10-30 15:31:34] (2.4.2) Load aspect extractor from checkpoints\\ATEPC_MULTILINGUAL_CHECKPOINT\n",
      "[2025-10-30 15:31:34] (2.4.2) config: checkpoints\\ATEPC_MULTILINGUAL_CHECKPOINT\\fast_lcf_atepc.config\n",
      "[2025-10-30 15:31:34] (2.4.2) state_dict: checkpoints\\ATEPC_MULTILINGUAL_CHECKPOINT\\fast_lcf_atepc.state_dict\n",
      "[2025-10-30 15:31:34] (2.4.2) model: None\n",
      "[2025-10-30 15:31:34] (2.4.2) tokenizer: checkpoints\\ATEPC_MULTILINGUAL_CHECKPOINT\\fast_lcf_atepc.tokenizer\n",
      "[2025-10-30 15:31:36] (2.4.2) Set Model Device: cpu\n",
      "[2025-10-30 15:31:36] (2.4.2) Device Name: Unknown\n",
      "[2025-10-30 15:33:10] (2.4.2) Example 0: The first time I tried conducive meatballs , the texture of the meatballs was not scratchy and crunchy , but the type of meatballs that had a soft texture and tended to be a bit mushy , especially for mushroom meatballs . For the taste , all the menu items tended to be bland . The beef meatballs are still tolerable , but the taste of the mushroom meatballs is really bland . The taste of the soup , if you don ' t add soy sauce , is still quite pronounced , but if you mix it with soy sauce , the chili sauce tends to be bland and you need to add a little salt , which is available at the table . The various kinds of fried foods are also bland , yes , maybe this depends on taste , but for me it doesn ' t suit the price of all the menus here , which are very cheap to eat for two and only a pack costs 50 thousand . The menu choices are extensive , the types of meatballs are also varied . There ' s a lot of fried food and the system is self - service so you can mix it yourself according to your taste . The atmosphere of the place is quite comfortable , there ' s an air - conditioned room too . can choose . only the parking space is a bit limited\n"
     ]
    }
   ],
   "source": [
    "from pyabsa import AspectTermExtraction as ATEPC\n",
    "\n",
    "# Load the model directly from Hugging Face Hub\n",
    "aspect_extractor = ATEPC.AspectExtractor(\n",
    "    'multilingual',          # Can be replaced with a specific checkpoint name or a local file path\n",
    "    auto_device=True,        # Use GPU/CPU or Auto\n",
    "    cal_perplexity=True      # Calculate text perplexity\n",
    ")\n",
    "texts = [\n",
    "    \"The first time I tried conducive meatballs, the texture of the meatballs was not scratchy and crunchy, but the type of meatballs that had a soft texture and tended to be a bit mushy, especially for mushroom meatballs. For the taste, all the menu items tended to be bland. The beef meatballs are still tolerable, but the taste of the mushroom meatballs is really bland. The taste of the soup, if you don't add soy sauce, is still quite pronounced, but if you mix it with soy sauce, the chili sauce tends to be bland and you need to add a little salt, which is available at the table. The various kinds of fried foods are also bland, yes, maybe this depends on taste, but for me it doesn't suit the price of all the menus here, which are very cheap to eat for two and only a pack costs 50 thousand. The menu choices are extensive, the types of meatballs are also varied. There's a lot of fried food and the system is self-service so you can mix it yourself according to your taste. The atmosphere of the place is quite comfortable, there's an air-conditioned room too. can choose. only the parking space is a bit limited\"\n",
    "]\n",
    "# Perform end-to-end aspect-based sentiment analysis\n",
    "result = aspect_extractor.predict(\n",
    "    texts,\n",
    "    print_result=True,       # Console Printing\n",
    "    save_result=False,       # Save results into a json file\n",
    "    ignore_error=True,       # Exception handling for error cases\n",
    "    pred_sentiment=True      # Predict sentiment for extracted aspects\n",
    ")"
   ]
  }
 ],
 "metadata": {
  "kernelspec": {
   "display_name": "Python 3",
   "language": "python",
   "name": "python3"
  },
  "language_info": {
   "codemirror_mode": {
    "name": "ipython",
    "version": 3
   },
   "file_extension": ".py",
   "mimetype": "text/x-python",
   "name": "python",
   "nbconvert_exporter": "python",
   "pygments_lexer": "ipython3",
   "version": "3.12.0"
  }
 },
 "nbformat": 4,
 "nbformat_minor": 5
}
