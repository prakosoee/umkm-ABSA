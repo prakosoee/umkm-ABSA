{
  "cells": [
    {
      "cell_type": "code",
      "execution_count": 17,
      "id": "f811d082",
      "metadata": {},
      "outputs": [],
      "source": [
        "import os\n",
        "import pandas as pd\n",
        "from datetime import datetime\n",
        "from deep_translator import GoogleTranslator\n",
        "from transformers import pipeline\n",
        "from pyabsa import AspectTermExtraction as ATEPC\n"
      ]
    },
    {
      "cell_type": "code",
      "execution_count": 18,
      "id": "5c6ef44f",
      "metadata": {},
      "outputs": [],
      "source": [
        "# ===== Konfigurasi =====\n",
        "# Path input CSV (wajib memiliki kolom 'review')\n",
        "input_csv = 'data_clean/all_reviews_merged.csv'  # ganti sesuai lokasi file Anda\n",
        "\n",
        "# Folder output dan nama file hasil\n",
        "output_dir = 'dataset'\n",
        "os.makedirs(output_dir, exist_ok=True)\n",
        "timestamp = datetime.now().strftime('%Y%m%d_%H%M%S')\n",
        "output_csv = os.path.join(output_dir, f'sentiment_results_{timestamp}.csv')\n",
        "\n",
        "# Batasi jumlah baris untuk uji cepat (None = semua)\n",
        "limit_rows = 100  # set None untuk semua baris\n"
      ]
    },
    {
      "cell_type": "code",
      "execution_count": 19,
      "id": "40750678",
      "metadata": {},
      "outputs": [
        {
          "data": {
            "text/html": [
              "<div>\n",
              "<style scoped>\n",
              "    .dataframe tbody tr th:only-of-type {\n",
              "        vertical-align: middle;\n",
              "    }\n",
              "\n",
              "    .dataframe tbody tr th {\n",
              "        vertical-align: top;\n",
              "    }\n",
              "\n",
              "    .dataframe thead th {\n",
              "        text-align: right;\n",
              "    }\n",
              "</style>\n",
              "<table border=\"1\" class=\"dataframe\">\n",
              "  <thead>\n",
              "    <tr style=\"text-align: right;\">\n",
              "      <th></th>\n",
              "      <th>username</th>\n",
              "      <th>review</th>\n",
              "    </tr>\n",
              "  </thead>\n",
              "  <tbody>\n",
              "    <tr>\n",
              "      <th>0</th>\n",
              "      <td>Ela Nuraini</td>\n",
              "      <td>pertama kali nyobain bakso kondusif tekstur ba...</td>\n",
              "    </tr>\n",
              "    <tr>\n",
              "      <th>1</th>\n",
              "      <td>Verdinand Tampubolon</td>\n",
              "      <td>saat searching pilihan makanan bakso di maps w...</td>\n",
              "    </tr>\n",
              "    <tr>\n",
              "      <th>2</th>\n",
              "      <td>Celeste Evans</td>\n",
              "      <td>salah satu bakso yang enak di banyuwangi kota....</td>\n",
              "    </tr>\n",
              "  </tbody>\n",
              "</table>\n",
              "</div>"
            ],
            "text/plain": [
              "               username                                             review\n",
              "0           Ela Nuraini  pertama kali nyobain bakso kondusif tekstur ba...\n",
              "1  Verdinand Tampubolon  saat searching pilihan makanan bakso di maps w...\n",
              "2         Celeste Evans  salah satu bakso yang enak di banyuwangi kota...."
            ]
          },
          "execution_count": 19,
          "metadata": {},
          "output_type": "execute_result"
        }
      ],
      "source": [
        "# ===== Load data =====\n",
        "df = pd.read_csv(input_csv)\n",
        "if limit_rows is not None:\n",
        "    df = df.head(limit_rows).copy()\n",
        "\n",
        "if 'review' not in df.columns:\n",
        "    raise ValueError(\"Kolom 'review' tidak ditemukan pada CSV input\")\n",
        "\n",
        "df['review'] = df['review'].fillna('').astype(str)\n",
        "df.head(3)\n"
      ]
    },
    {
      "cell_type": "code",
      "execution_count": 20,
      "id": "6816c6b6",
      "metadata": {},
      "outputs": [
        {
          "data": {
            "text/html": [
              "<div>\n",
              "<style scoped>\n",
              "    .dataframe tbody tr th:only-of-type {\n",
              "        vertical-align: middle;\n",
              "    }\n",
              "\n",
              "    .dataframe tbody tr th {\n",
              "        vertical-align: top;\n",
              "    }\n",
              "\n",
              "    .dataframe thead th {\n",
              "        text-align: right;\n",
              "    }\n",
              "</style>\n",
              "<table border=\"1\" class=\"dataframe\">\n",
              "  <thead>\n",
              "    <tr style=\"text-align: right;\">\n",
              "      <th></th>\n",
              "      <th>review</th>\n",
              "      <th>review_en</th>\n",
              "    </tr>\n",
              "  </thead>\n",
              "  <tbody>\n",
              "    <tr>\n",
              "      <th>0</th>\n",
              "      <td>pertama kali nyobain bakso kondusif tekstur ba...</td>\n",
              "      <td>The first time I tried conducive meatballs, th...</td>\n",
              "    </tr>\n",
              "    <tr>\n",
              "      <th>1</th>\n",
              "      <td>saat searching pilihan makanan bakso di maps w...</td>\n",
              "      <td>When searching for meatball food options on th...</td>\n",
              "    </tr>\n",
              "    <tr>\n",
              "      <th>2</th>\n",
              "      <td>salah satu bakso yang enak di banyuwangi kota....</td>\n",
              "      <td>one of the delicious meatballs in Banyuwangi c...</td>\n",
              "    </tr>\n",
              "  </tbody>\n",
              "</table>\n",
              "</div>"
            ],
            "text/plain": [
              "                                              review  \\\n",
              "0  pertama kali nyobain bakso kondusif tekstur ba...   \n",
              "1  saat searching pilihan makanan bakso di maps w...   \n",
              "2  salah satu bakso yang enak di banyuwangi kota....   \n",
              "\n",
              "                                           review_en  \n",
              "0  The first time I tried conducive meatballs, th...  \n",
              "1  When searching for meatball food options on th...  \n",
              "2  one of the delicious meatballs in Banyuwangi c...  "
            ]
          },
          "execution_count": 20,
          "metadata": {},
          "output_type": "execute_result"
        }
      ],
      "source": [
        "# ===== Terjemahan ID -> EN =====\n",
        "translator = GoogleTranslator(source='id', target='en')\n",
        "\n",
        "def translate_safe(text):\n",
        "    text = (text or '').strip()\n",
        "    if not text:\n",
        "        return ''\n",
        "    try:\n",
        "        return translator.translate(text)\n",
        "    except Exception:\n",
        "        # Retry pendek atau fallback ke teks asli jika gagal\n",
        "        try:\n",
        "            return translator.translate(text)\n",
        "        except Exception:\n",
        "            return text\n",
        "\n",
        "df['review_en'] = df['review'].apply(translate_safe)\n",
        "df[['review', 'review_en']].head(3)\n"
      ]
    },
    {
      "cell_type": "code",
      "execution_count": 21,
      "id": "d4d7b714",
      "metadata": {},
      "outputs": [
        {
          "name": "stderr",
          "output_type": "stream",
          "text": [
            "Device set to use cpu\n"
          ]
        },
        {
          "data": {
            "text/html": [
              "<div>\n",
              "<style scoped>\n",
              "    .dataframe tbody tr th:only-of-type {\n",
              "        vertical-align: middle;\n",
              "    }\n",
              "\n",
              "    .dataframe tbody tr th {\n",
              "        vertical-align: top;\n",
              "    }\n",
              "\n",
              "    .dataframe thead th {\n",
              "        text-align: right;\n",
              "    }\n",
              "</style>\n",
              "<table border=\"1\" class=\"dataframe\">\n",
              "  <thead>\n",
              "    <tr style=\"text-align: right;\">\n",
              "      <th></th>\n",
              "      <th>review_en</th>\n",
              "      <th>sentiment_score</th>\n",
              "      <th>sentiment_label</th>\n",
              "    </tr>\n",
              "  </thead>\n",
              "  <tbody>\n",
              "    <tr>\n",
              "      <th>0</th>\n",
              "      <td>The first time I tried conducive meatballs, th...</td>\n",
              "      <td>-0.990115</td>\n",
              "      <td>Negative</td>\n",
              "    </tr>\n",
              "    <tr>\n",
              "      <th>1</th>\n",
              "      <td>When searching for meatball food options on th...</td>\n",
              "      <td>-0.999443</td>\n",
              "      <td>Negative</td>\n",
              "    </tr>\n",
              "    <tr>\n",
              "      <th>2</th>\n",
              "      <td>one of the delicious meatballs in Banyuwangi c...</td>\n",
              "      <td>0.999334</td>\n",
              "      <td>Positive</td>\n",
              "    </tr>\n",
              "    <tr>\n",
              "      <th>3</th>\n",
              "      <td>Delicious meatballs, good service but not enou...</td>\n",
              "      <td>0.998838</td>\n",
              "      <td>Positive</td>\n",
              "    </tr>\n",
              "    <tr>\n",
              "      <th>4</th>\n",
              "      <td>The spicy sauce makes you miss it. Here it's h...</td>\n",
              "      <td>0.992673</td>\n",
              "      <td>Positive</td>\n",
              "    </tr>\n",
              "  </tbody>\n",
              "</table>\n",
              "</div>"
            ],
            "text/plain": [
              "                                           review_en  sentiment_score  \\\n",
              "0  The first time I tried conducive meatballs, th...        -0.990115   \n",
              "1  When searching for meatball food options on th...        -0.999443   \n",
              "2  one of the delicious meatballs in Banyuwangi c...         0.999334   \n",
              "3  Delicious meatballs, good service but not enou...         0.998838   \n",
              "4  The spicy sauce makes you miss it. Here it's h...         0.992673   \n",
              "\n",
              "  sentiment_label  \n",
              "0        Negative  \n",
              "1        Negative  \n",
              "2        Positive  \n",
              "3        Positive  \n",
              "4        Positive  "
            ]
          },
          "execution_count": 21,
          "metadata": {},
          "output_type": "execute_result"
        }
      ],
      "source": [
        "# ===== Sentiment Analysis (English) =====\n",
        "clf = pipeline('sentiment-analysis', model='distilbert-base-uncased-finetuned-sst-2-english')\n",
        "\n",
        "def score_and_label(text):\n",
        "    text = (text or '').strip()\n",
        "    if not text:\n",
        "        return 0.0, 'Neutral'\n",
        "    out = clf(text)[0]\n",
        "    label = out['label']  # 'POSITIVE' atau 'NEGATIVE'\n",
        "    prob = float(out['score'])\n",
        "    # Jadikan skor signed: positif = +prob, negatif = -prob\n",
        "    signed = prob if label.upper().startswith('POS') else -prob\n",
        "    final_label = 'Positive' if signed > 0 else 'Negative'\n",
        "    return signed, final_label\n",
        "\n",
        "scores_labels = df['review_en'].apply(score_and_label)\n",
        "df['sentiment_score'] = scores_labels.apply(lambda x: x[0])\n",
        "df['sentiment_label'] = scores_labels.apply(lambda x: x[1])\n",
        "df[['review_en', 'sentiment_score', 'sentiment_label']].head(5)\n"
      ]
    },
    {
      "cell_type": "code",
      "execution_count": 22,
      "id": "d87301d6",
      "metadata": {},
      "outputs": [
        {
          "name": "stdout",
          "output_type": "stream",
          "text": [
            "[2025-10-30 15:49:39] (2.4.2) ********** Available ATEPC model checkpoints for Version:2.4.2 (this version) **********\n",
            "[2025-10-30 15:49:39] (2.4.2) ********** Available ATEPC model checkpoints for Version:2.4.2 (this version) **********\n",
            "[2025-10-30 15:49:39] (2.4.2) Downloading checkpoint:multilingual \n",
            "[2025-10-30 15:49:39] (2.4.2) Notice: The pretrained model are used for testing, it is recommended to train the model on your own custom datasets\n",
            "[2025-10-30 15:49:39] (2.4.2) Checkpoint already downloaded, skip\n",
            "[2025-10-30 15:49:39] (2.4.2) Load aspect extractor from checkpoints\\ATEPC_MULTILINGUAL_CHECKPOINT\n",
            "[2025-10-30 15:49:39] (2.4.2) config: checkpoints\\ATEPC_MULTILINGUAL_CHECKPOINT\\fast_lcf_atepc.config\n",
            "[2025-10-30 15:49:39] (2.4.2) state_dict: checkpoints\\ATEPC_MULTILINGUAL_CHECKPOINT\\fast_lcf_atepc.state_dict\n",
            "[2025-10-30 15:49:39] (2.4.2) model: None\n",
            "[2025-10-30 15:49:39] (2.4.2) tokenizer: checkpoints\\ATEPC_MULTILINGUAL_CHECKPOINT\\fast_lcf_atepc.tokenizer\n",
            "[2025-10-30 15:49:40] (2.4.2) Set Model Device: cpu\n",
            "[2025-10-30 15:49:40] (2.4.2) Device Name: Unknown\n"
          ]
        },
        {
          "name": "stderr",
          "output_type": "stream",
          "text": [
            "c:\\Users\\elang\\AppData\\Local\\Programs\\Python\\Python312\\Lib\\site-packages\\transformers\\convert_slow_tokenizer.py:564: UserWarning: The sentencepiece tokenizer that you are converting to a fast tokenizer uses the byte fallback option which is not implemented in the fast tokenizers. In practice this means that the fast version of the tokenizer can produce unknown tokens whereas the sentencepiece version would have converted these unknown tokens into a sequence of byte tokens matching the original piece of text.\n",
            "  warnings.warn(\n",
            "c:\\Users\\elang\\AppData\\Local\\Programs\\Python\\Python312\\Lib\\site-packages\\torch\\utils\\data\\dataloader.py:668: UserWarning: 'pin_memory' argument is set as true but no accelerator is found, then device pinned memory won't be used.\n",
            "  warnings.warn(warn_msg)\n"
          ]
        }
      ],
      "source": [
        "aspect_extractor = ATEPC.AspectExtractor('multilingual', auto_device=True, cal_perplexity=True)\n",
        "\n",
        "def _absa_auto(text):\n",
        "    text = (text or '').strip()\n",
        "    if not text:\n",
        "        return {'aspects': [], 'sentiments': []}\n",
        "    res = aspect_extractor.predict([text], print_result=False, save_result=False, ignore_error=True, pred_sentiment=True)\n",
        "    item = res[0] if isinstance(res, list) else res\n",
        "    aspects = item.get('aspect', []) or item.get('aspects', [])\n",
        "    sentiments = item.get('sentiment', []) or item.get('sentiments', [])\n",
        "    return {'aspects': aspects, 'sentiments': sentiments}\n",
        "\n",
        "df['absa_auto'] = df['review_en'].apply(_absa_auto)\n",
        "df['absa_auto_aspects'] = df['absa_auto'].apply(lambda d: ', '.join(d.get('aspects', [])))\n",
        "df['absa_auto_sentiments'] = df['absa_auto'].apply(lambda d: ', '.join(d.get('sentiments', [])))\n",
        "df['absa_sentiment_score'] = df['absa_auto'].apply(lambda d: sum(d.get('sentiment', [])))\n"
      ]
    },
    {
      "cell_type": "code",
      "execution_count": 23,
      "id": "a3cfb2a8",
      "metadata": {},
      "outputs": [
        {
          "data": {
            "text/plain": [
              "'dataset\\\\sentiment_results_20251030_154827.csv'"
            ]
          },
          "execution_count": 23,
          "metadata": {},
          "output_type": "execute_result"
        }
      ],
      "source": [
        "# ===== Simpan hasil =====\n",
        "df.to_csv(output_csv, index=False, encoding='utf-8-sig')\n",
        "output_csv\n"
      ]
    }
  ],
  "metadata": {
    "kernelspec": {
      "display_name": "Python 3",
      "language": "python",
      "name": "python3"
    },
    "language_info": {
      "codemirror_mode": {
        "name": "ipython",
        "version": 3
      },
      "file_extension": ".py",
      "mimetype": "text/x-python",
      "name": "python",
      "nbconvert_exporter": "python",
      "pygments_lexer": "ipython3",
      "version": "3.12.0"
    }
  },
  "nbformat": 4,
  "nbformat_minor": 5
}
